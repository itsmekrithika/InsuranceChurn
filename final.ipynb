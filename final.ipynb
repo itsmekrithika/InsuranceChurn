{
 "cells": [
  {
   "cell_type": "code",
   "execution_count": 1,
   "metadata": {},
   "outputs": [],
   "source": [
    "#Import libraries:\n",
    "import pandas as pd\n",
    "import numpy as np\n",
    "import xgboost as xgb\n",
    "from xgboost.sklearn import XGBClassifier\n",
    "from sklearn.model_selection import cross_validate#Additional scklearn functions\n",
    "from sklearn import metrics\n",
    "from sklearn.model_selection import GridSearchCV   #Perforing grid search\n",
    "\n",
    "import matplotlib.pylab as plt\n",
    "%matplotlib inline\n",
    "from matplotlib.pylab import rcParams\n",
    "rcParams['figure.figsize'] = 12, 4"
   ]
  },
  {
   "cell_type": "code",
   "execution_count": 2,
   "metadata": {},
   "outputs": [],
   "source": [
    "train = pd.read_csv('Data/Train.csv')\n",
    "target = \"labels\"\n",
    "test_file= 'Data/Test.csv'\n",
    "testdata = pd.read_csv(test_file)\n",
    "x_test=testdata\n",
    "sample_data = pd.read_excel(\"Data/Sample_Submission.xlsx\")\n",
    "# df = dataset\n",
    "dataset = train"
   ]
  },
  {
   "cell_type": "code",
   "execution_count": 3,
   "metadata": {},
   "outputs": [
    {
     "name": "stderr",
     "output_type": "stream",
     "text": [
      "Using TensorFlow backend.\n"
     ]
    }
   ],
   "source": [
    "from numpy import mean\n",
    "from sklearn.model_selection import cross_val_score\n",
    "from sklearn.model_selection import RepeatedStratifiedKFold\n",
    "from sklearn.ensemble import RandomForestClassifier\n",
    "from imblearn.pipeline import Pipeline\n",
    "from imblearn.over_sampling import RandomOverSampler\n",
    "from imblearn.over_sampling import SMOTE\n",
    "from imblearn.over_sampling import BorderlineSMOTE\n",
    "from imblearn.over_sampling import ADASYN\n",
    "from imblearn.combine import SMOTETomek\n",
    "from imblearn.under_sampling import RandomUnderSampler\n",
    "from collections import Counter"
   ]
  },
  {
   "cell_type": "code",
   "execution_count": 174,
   "metadata": {},
   "outputs": [
    {
     "name": "stdout",
     "output_type": "stream",
     "text": [
      "Counter({0: 29941, 1: 3967})\n",
      "Counter({0: 29941, 1: 8982})\n",
      "Counter({0: 17964, 1: 8982})\n"
     ]
    }
   ],
   "source": [
    "y = dataset.labels\n",
    "X = dataset.drop('labels', axis=1)\n",
    "print(Counter(y))\n",
    "# define oversampling strategy\n",
    "over = RandomOverSampler(sampling_strategy=0.3,random_state=20)\n",
    "# smote = SMOTE(sampling_strategy=0.3,random_state=20)\n",
    "# fit and apply the transform\n",
    "X, y = over.fit_resample(X, y)\n",
    "# summarize class distribution\n",
    "print(Counter(y))\n",
    "# define undersampling strategy\n",
    "under = RandomUnderSampler(sampling_strategy=0.5,random_state=20)\n",
    "X, y = under.fit_resample(X, y)\n",
    "print(Counter(y))"
   ]
  },
  {
   "cell_type": "code",
   "execution_count": 554,
   "metadata": {},
   "outputs": [],
   "source": [
    "train = X\n",
    "train[\"labels\"] = y\n"
   ]
  },
  {
   "cell_type": "code",
   "execution_count": 475,
   "metadata": {},
   "outputs": [],
   "source": [
    "def modelfit(alg, dtrain, predictors,useTrainCV=True, cv_folds=5, early_stopping_rounds=50):\n",
    "    \n",
    "    if useTrainCV:\n",
    "        xgb_param = alg.get_xgb_params()\n",
    "        xgtrain = xgb.DMatrix(dtrain[predictors].values, label=dtrain[target].values)\n",
    "        cvresult = xgb.cv(xgb_param, xgtrain, num_boost_round=alg.get_params()['n_estimators'], nfold=cv_folds,\n",
    "            metrics='auc', early_stopping_rounds=early_stopping_rounds, verbose_eval=None)\n",
    "        alg.set_params(n_estimators=cvresult.shape[0])\n",
    "    \n",
    "    #Fit the algorithm on the data\n",
    "    alg.fit(dtrain[predictors], dtrain['labels'],eval_metric='auc')\n",
    "        \n",
    "    #Predict training set:\n",
    "    dtrain_predictions = alg.predict(dtrain[predictors])\n",
    "    dtrain_predprob = alg.predict_proba(dtrain[predictors])[:,1]\n",
    "        \n",
    "    #Print model report:\n",
    "    print (\"\\nModel Report\")\n",
    "    print (\"Accuracy : %.4g\" % metrics.accuracy_score(dtrain['labels'].values, dtrain_predictions))\n",
    "    print (\"F1 (Train): %f\" % metrics.f1_score(dtrain['labels'], dtrain_predictions))\n",
    "                    \n",
    "    feat_imp = pd.Series(alg.get_booster().get_score(importance_type='weight')).sort_values(ascending=False)\n",
    "    feat_imp.plot(kind='bar', title='Feature Importances')\n",
    "    plt.ylabel('Feature Importance Score')"
   ]
  },
  {
   "cell_type": "code",
   "execution_count": 476,
   "metadata": {},
   "outputs": [],
   "source": [
    "#Choose all predictors except target & IDcols\n",
    "predictors = [x for x in train.columns if x not in [target]]\n",
    "xgb1 = XGBClassifier(\n",
    " learning_rate =0.1,\n",
    " n_estimators=1000,\n",
    " max_depth=5,\n",
    " min_child_weight=1,\n",
    " gamma=0,\n",
    " subsample=0.8,\n",
    " colsample_bytree=0.8,\n",
    " objective= 'binary:logistic',\n",
    " nthread=4,\n",
    " scale_pos_weight=1,\n",
    " seed=27)\n",
    "# modelfit(xgb1, train, predictors)"
   ]
  },
  {
   "cell_type": "code",
   "execution_count": 477,
   "metadata": {},
   "outputs": [
    {
     "data": {
      "text/plain": [
       "{'mean_fit_time': array([27.76278753, 27.76858544, 33.76507144, 49.20790038, 43.95514688,\n",
       "        47.5546382 , 61.83494802, 65.61658545, 56.85274453, 72.20974321,\n",
       "        65.59739356, 67.19861941]),\n",
       " 'std_fit_time': array([0.17022848, 0.0993536 , 5.28829425, 7.3849638 , 2.85277823,\n",
       "        1.00358387, 3.08581527, 3.44566456, 0.87458538, 1.75664588,\n",
       "        2.89762633, 5.44834436]),\n",
       " 'mean_score_time': array([0.16583643, 0.17032771, 0.23682718, 0.19263749, 0.24713345,\n",
       "        0.21344795, 0.22235656, 0.20955324, 0.21015301, 0.23936167,\n",
       "        0.24371986, 0.24499927]),\n",
       " 'std_score_time': array([0.01672814, 0.02051254, 0.06437181, 0.04094976, 0.04900519,\n",
       "        0.03979535, 0.05006513, 0.035718  , 0.0247422 , 0.01322338,\n",
       "        0.03045961, 0.07264197]),\n",
       " 'param_max_depth': masked_array(data=[3, 3, 3, 5, 5, 5, 7, 7, 7, 9, 9, 9],\n",
       "              mask=[False, False, False, False, False, False, False, False,\n",
       "                    False, False, False, False],\n",
       "        fill_value='?',\n",
       "             dtype=object),\n",
       " 'param_min_child_weight': masked_array(data=[1, 3, 5, 1, 3, 5, 1, 3, 5, 1, 3, 5],\n",
       "              mask=[False, False, False, False, False, False, False, False,\n",
       "                    False, False, False, False],\n",
       "        fill_value='?',\n",
       "             dtype=object),\n",
       " 'params': [{'max_depth': 3, 'min_child_weight': 1},\n",
       "  {'max_depth': 3, 'min_child_weight': 3},\n",
       "  {'max_depth': 3, 'min_child_weight': 5},\n",
       "  {'max_depth': 5, 'min_child_weight': 1},\n",
       "  {'max_depth': 5, 'min_child_weight': 3},\n",
       "  {'max_depth': 5, 'min_child_weight': 5},\n",
       "  {'max_depth': 7, 'min_child_weight': 1},\n",
       "  {'max_depth': 7, 'min_child_weight': 3},\n",
       "  {'max_depth': 7, 'min_child_weight': 5},\n",
       "  {'max_depth': 9, 'min_child_weight': 1},\n",
       "  {'max_depth': 9, 'min_child_weight': 3},\n",
       "  {'max_depth': 9, 'min_child_weight': 5}],\n",
       " 'split0_test_score': array([0.80471966, 0.81210364, 0.80242826, 0.74710579, 0.75679415,\n",
       "        0.75059524, 0.70299325, 0.69762031, 0.69016935, 0.66403075,\n",
       "        0.65457762, 0.65168788]),\n",
       " 'split1_test_score': array([0.9252216 , 0.92553191, 0.92418016, 0.94851693, 0.94887327,\n",
       "        0.94940188, 0.96073978, 0.96003243, 0.95922173, 0.96734893,\n",
       "        0.96528228, 0.96645277]),\n",
       " 'split2_test_score': array([0.92527899, 0.92434396, 0.92552504, 0.94938551, 0.94986636,\n",
       "        0.95040519, 0.96254257, 0.96271077, 0.96242306, 0.967878  ,\n",
       "        0.96684769, 0.96643425]),\n",
       " 'split3_test_score': array([0.92729325, 0.92676238, 0.92700612, 0.95213412, 0.95231144,\n",
       "        0.95178673, 0.96315533, 0.9631314 , 0.96353448, 0.96625568,\n",
       "        0.96734893, 0.96590356]),\n",
       " 'split4_test_score': array([0.92757122, 0.92711183, 0.92512077, 0.9495424 , 0.94974874,\n",
       "        0.95081436, 0.96116111, 0.95969508, 0.96027886, 0.96454936,\n",
       "        0.96487955, 0.96412338]),\n",
       " 'mean_test_score': array([0.90201694, 0.90317075, 0.90085207, 0.90933695, 0.91151879,\n",
       "        0.91060068, 0.91011841, 0.90863799, 0.90712549, 0.90601254,\n",
       "        0.90378722, 0.90292037]),\n",
       " 'std_test_score': array([0.04865851, 0.04554401, 0.04922034, 0.08112458, 0.07737077,\n",
       "        0.08000638, 0.10356632, 0.10551784, 0.10848877, 0.12099626,\n",
       "        0.12460823, 0.12561913]),\n",
       " 'rank_test_score': array([11,  9, 12,  4,  1,  2,  3,  5,  6,  7,  8, 10])}"
      ]
     },
     "execution_count": 477,
     "metadata": {},
     "output_type": "execute_result"
    }
   ],
   "source": [
    "param_test1 = {\n",
    " 'max_depth':range(3,10,2),\n",
    " 'min_child_weight':range(1,6,2)\n",
    "}\n",
    "gsearch1 = GridSearchCV(estimator = XGBClassifier( learning_rate =0.1, n_estimators=140, max_depth=5,\n",
    " min_child_weight=1, gamma=0, subsample=0.8, colsample_bytree=0.8,\n",
    " objective= 'binary:logistic', nthread=4, scale_pos_weight=1, seed=27), \n",
    " param_grid = param_test1, scoring='f1',n_jobs=4, cv=5)\n",
    "gsearch1.fit(train[predictors],train[target])\n",
    "gsearch1.cv_results_"
   ]
  },
  {
   "cell_type": "code",
   "execution_count": 478,
   "metadata": {},
   "outputs": [
    {
     "data": {
      "text/plain": [
       "{'max_depth': 5, 'min_child_weight': 3}"
      ]
     },
     "execution_count": 478,
     "metadata": {},
     "output_type": "execute_result"
    }
   ],
   "source": [
    "gsearch1.best_params_"
   ]
  },
  {
   "cell_type": "code",
   "execution_count": 479,
   "metadata": {},
   "outputs": [
    {
     "data": {
      "text/plain": [
       "0.9115187933449175"
      ]
     },
     "execution_count": 479,
     "metadata": {},
     "output_type": "execute_result"
    }
   ],
   "source": [
    "gsearch1.best_score_"
   ]
  },
  {
   "cell_type": "code",
   "execution_count": 26,
   "metadata": {},
   "outputs": [
    {
     "name": "stderr",
     "output_type": "stream",
     "text": [
      "c:\\users\\sai krithik\\appdata\\local\\programs\\python\\python36\\lib\\site-packages\\sklearn\\model_selection\\_search.py:823: FutureWarning: The parameter 'iid' is deprecated in 0.22 and will be removed in 0.24.\n",
      "  \"removed in 0.24.\", FutureWarning\n"
     ]
    },
    {
     "data": {
      "text/plain": [
       "({'mean_fit_time': array([20.01274667, 21.45727892, 22.18513966, 26.40045924, 27.87895894,\n",
       "         26.4756763 , 33.21800694, 31.63257265, 23.43602324]),\n",
       "  'std_fit_time': array([0.7843828 , 0.8484935 , 0.57094234, 0.93008055, 0.8037403 ,\n",
       "         1.77199444, 2.44857192, 1.52310948, 5.73643923]),\n",
       "  'mean_score_time': array([0.08779593, 0.08961277, 0.10440617, 0.11760178, 0.12517395,\n",
       "         0.10220895, 0.10900345, 0.09700818, 0.09220037]),\n",
       "  'std_score_time': array([0.01276604, 0.01184018, 0.0259615 , 0.01778339, 0.01504322,\n",
       "         0.01120789, 0.01374662, 0.01544056, 0.01697896]),\n",
       "  'param_max_depth': masked_array(data=[6, 6, 6, 7, 7, 7, 8, 8, 8],\n",
       "               mask=[False, False, False, False, False, False, False, False,\n",
       "                     False],\n",
       "         fill_value='?',\n",
       "              dtype=object),\n",
       "  'param_min_child_weight': masked_array(data=[1, 2, 3, 1, 2, 3, 1, 2, 3],\n",
       "               mask=[False, False, False, False, False, False, False, False,\n",
       "                     False],\n",
       "         fill_value='?',\n",
       "              dtype=object),\n",
       "  'params': [{'max_depth': 6, 'min_child_weight': 1},\n",
       "   {'max_depth': 6, 'min_child_weight': 2},\n",
       "   {'max_depth': 6, 'min_child_weight': 3},\n",
       "   {'max_depth': 7, 'min_child_weight': 1},\n",
       "   {'max_depth': 7, 'min_child_weight': 2},\n",
       "   {'max_depth': 7, 'min_child_weight': 3},\n",
       "   {'max_depth': 8, 'min_child_weight': 1},\n",
       "   {'max_depth': 8, 'min_child_weight': 2},\n",
       "   {'max_depth': 8, 'min_child_weight': 3}],\n",
       "  'split0_test_score': array([0.937225  , 0.93540103, 0.93608207, 0.93601329, 0.93473934,\n",
       "         0.93632143, 0.93512466, 0.93467329, 0.93485102]),\n",
       "  'split1_test_score': array([0.93333392, 0.93308342, 0.93453216, 0.93358043, 0.93404063,\n",
       "         0.93255781, 0.93402106, 0.93406586, 0.93446254]),\n",
       "  'split2_test_score': array([0.93444286, 0.93407333, 0.93556998, 0.93551208, 0.93585845,\n",
       "         0.9355704 , 0.93538153, 0.93412787, 0.93426105]),\n",
       "  'split3_test_score': array([0.92926016, 0.93003262, 0.93152193, 0.93149687, 0.93134735,\n",
       "         0.93020446, 0.93004251, 0.92805241, 0.92950803]),\n",
       "  'split4_test_score': array([0.93487437, 0.93444202, 0.93471727, 0.93406422, 0.93539896,\n",
       "         0.93536358, 0.93229629, 0.9327398 , 0.93409454]),\n",
       "  'mean_test_score': array([0.93382726, 0.93340648, 0.93448468, 0.93413338, 0.93427694,\n",
       "         0.93400354, 0.93337321, 0.93273185, 0.93343544]),\n",
       "  'std_test_score': array([0.00261235, 0.00184296, 0.00158517, 0.00159352, 0.00158822,\n",
       "         0.00228913, 0.00198866, 0.00242466, 0.00197987]),\n",
       "  'rank_test_score': array([5, 7, 1, 3, 2, 4, 8, 9, 6])},\n",
       " {'max_depth': 6, 'min_child_weight': 3},\n",
       " 0.9344846841631382)"
      ]
     },
     "execution_count": 26,
     "metadata": {},
     "output_type": "execute_result"
    }
   ],
   "source": [
    "param_test2 = {\n",
    " 'max_depth':[6,7,8],\n",
    " 'min_child_weight':[1,2,3]\n",
    "}\n",
    "gsearch2 = GridSearchCV(estimator = XGBClassifier( learning_rate=0.1, n_estimators=140, max_depth=5,\n",
    " min_child_weight=2, gamma=0, subsample=0.8, colsample_bytree=0.8,\n",
    " objective= 'binary:logistic', nthread=4, scale_pos_weight=1,seed=27),\n",
    " param_grid = param_test2, scoring='roc_auc',n_jobs=4, cv=5)\n",
    "gsearch2.fit(train[predictors],train[target])\n",
    "gsearch2.cv_results_, gsearch2.best_params_, gsearch2.best_score_"
   ]
  },
  {
   "cell_type": "markdown",
   "metadata": {},
   "source": [
    "# 'max_depth': 6, 'min_child_weight': 3"
   ]
  },
  {
   "cell_type": "code",
   "execution_count": 28,
   "metadata": {},
   "outputs": [
    {
     "data": {
      "text/plain": [
       "({'mean_fit_time': array([16.09281249, 18.36668878, 18.48811021, 18.91349382, 16.12947001]),\n",
       "  'std_fit_time': array([1.30147064, 0.23565742, 0.19551219, 0.15133721, 5.07170853]),\n",
       "  'mean_score_time': array([0.11920071, 0.10159135, 0.0844049 , 0.11063771, 0.0723846 ]),\n",
       "  'std_score_time': array([0.01405133, 0.01446736, 0.01023128, 0.01647368, 0.01656787]),\n",
       "  'param_gamma': masked_array(data=[0.0, 0.1, 0.2, 0.3, 0.4],\n",
       "               mask=[False, False, False, False, False],\n",
       "         fill_value='?',\n",
       "              dtype=object),\n",
       "  'params': [{'gamma': 0.0},\n",
       "   {'gamma': 0.1},\n",
       "   {'gamma': 0.2},\n",
       "   {'gamma': 0.3},\n",
       "   {'gamma': 0.4}],\n",
       "  'split0_test_score': array([0.93256938, 0.93350955, 0.93338335, 0.93271366, 0.93339723]),\n",
       "  'split1_test_score': array([0.92898833, 0.92853633, 0.92946725, 0.92931897, 0.92936355]),\n",
       "  'split2_test_score': array([0.92892476, 0.92892476, 0.92967519, 0.93108804, 0.9310933 ]),\n",
       "  'split3_test_score': array([0.92484359, 0.92460962, 0.9252612 , 0.92526962, 0.9252652 ]),\n",
       "  'split4_test_score': array([0.93260144, 0.93198482, 0.93150214, 0.9321236 , 0.93146655]),\n",
       "  'mean_test_score': array([0.9295855 , 0.92951302, 0.92985782, 0.93010278, 0.93011717]),\n",
       "  'std_test_score': array([0.00287327, 0.00307978, 0.00269992, 0.0026775 , 0.00274379]),\n",
       "  'rank_test_score': array([4, 5, 3, 2, 1])},\n",
       " {'gamma': 0.4},\n",
       " 0.9301171671390401)"
      ]
     },
     "execution_count": 28,
     "metadata": {},
     "output_type": "execute_result"
    }
   ],
   "source": [
    "param_test3 = {\n",
    " 'gamma':[i/10.0 for i in range(0,5)]\n",
    "}\n",
    "gsearch3 = GridSearchCV(estimator = XGBClassifier( learning_rate =0.1, n_estimators=140, max_depth=6,\n",
    " min_child_weight=3, gamma=0, subsample=0.8, colsample_bytree=0.8,\n",
    " objective= 'binary:logistic', nthread=4, scale_pos_weight=1,seed=27), \n",
    " param_grid = param_test3, scoring='roc_auc',n_jobs=4, cv=5)\n",
    "gsearch3.fit(train[predictors],train[target])\n",
    "gsearch3.cv_results_, gsearch3.best_params_, gsearch3.best_score_"
   ]
  },
  {
   "cell_type": "markdown",
   "metadata": {},
   "source": [
    "# 'gamma': 0.4"
   ]
  },
  {
   "cell_type": "code",
   "execution_count": 29,
   "metadata": {},
   "outputs": [
    {
     "name": "stdout",
     "output_type": "stream",
     "text": [
      "\n",
      "Model Report\n",
      "Accuracy : 0.9401\n",
      "AUC Score (Train): 0.968675\n"
     ]
    },
    {
     "data": {
      "image/png": "[encoded data removed]",
      "text/plain": [
       "<Figure size 864x288 with 1 Axes>"
      ]
     },
     "metadata": {
      "needs_background": "light"
     },
     "output_type": "display_data"
    }
   ],
   "source": [
    "xgb2 = XGBClassifier(\n",
    " learning_rate =0.1,\n",
    " n_estimators=1000,\n",
    " max_depth=6,\n",
    " min_child_weight=3,\n",
    " gamma=0.4,\n",
    " subsample=0.8,\n",
    " colsample_bytree=0.8,\n",
    " objective= 'binary:logistic',\n",
    " nthread=4,\n",
    " scale_pos_weight=1,\n",
    " seed=27)\n",
    "modelfit(xgb2, train, predictors)"
   ]
  },
  {
   "cell_type": "code",
   "execution_count": 31,
   "metadata": {},
   "outputs": [
    {
     "name": "stderr",
     "output_type": "stream",
     "text": [
      "c:\\users\\sai krithik\\appdata\\local\\programs\\python\\python36\\lib\\site-packages\\sklearn\\model_selection\\_search.py:823: FutureWarning: The parameter 'iid' is deprecated in 0.22 and will be removed in 0.24.\n",
      "  \"removed in 0.24.\", FutureWarning\n"
     ]
    },
    {
     "data": {
      "text/plain": [
       "({'mean_fit_time': array([23.65528874, 27.83542476, 26.20326467, 25.92378235, 29.19382033,\n",
       "         28.68260212, 27.69261484, 29.10793681, 29.37364721, 28.94004445,\n",
       "         30.31468263, 33.72884016, 33.49467554, 40.34521995, 37.4595201 ,\n",
       "         31.46791992]),\n",
       "  'std_fit_time': array([2.32788734, 0.70085572, 0.38880689, 0.1343918 , 0.33224077,\n",
       "         0.73890891, 0.39501989, 0.73852834, 0.2065746 , 0.41803536,\n",
       "         0.92880019, 1.36911363, 3.63181431, 1.78714441, 0.17520705,\n",
       "         2.46277333]),\n",
       "  'mean_score_time': array([0.13180256, 0.15499396, 0.12939696, 0.11341305, 0.14495196,\n",
       "         0.13219962, 0.13340049, 0.1525876 , 0.11128922, 0.12320018,\n",
       "         0.13757939, 0.15499458, 0.12567358, 0.20640397, 0.15779552,\n",
       "         0.09840178]),\n",
       "  'std_score_time': array([0.01613149, 0.05270239, 0.01627953, 0.01472757, 0.04557333,\n",
       "         0.02721317, 0.02325463, 0.03212674, 0.00570008, 0.02881663,\n",
       "         0.02239761, 0.04009252, 0.02984667, 0.03424977, 0.07329624,\n",
       "         0.01822992]),\n",
       "  'param_colsample_bytree': masked_array(data=[0.6, 0.6, 0.6, 0.6, 0.7, 0.7, 0.7, 0.7, 0.8, 0.8, 0.8,\n",
       "                     0.8, 0.9, 0.9, 0.9, 0.9],\n",
       "               mask=[False, False, False, False, False, False, False, False,\n",
       "                     False, False, False, False, False, False, False, False],\n",
       "         fill_value='?',\n",
       "              dtype=object),\n",
       "  'param_subsample': masked_array(data=[0.6, 0.7, 0.8, 0.9, 0.6, 0.7, 0.8, 0.9, 0.6, 0.7, 0.8,\n",
       "                     0.9, 0.6, 0.7, 0.8, 0.9],\n",
       "               mask=[False, False, False, False, False, False, False, False,\n",
       "                     False, False, False, False, False, False, False, False],\n",
       "         fill_value='?',\n",
       "              dtype=object),\n",
       "  'params': [{'colsample_bytree': 0.6, 'subsample': 0.6},\n",
       "   {'colsample_bytree': 0.6, 'subsample': 0.7},\n",
       "   {'colsample_bytree': 0.6, 'subsample': 0.8},\n",
       "   {'colsample_bytree': 0.6, 'subsample': 0.9},\n",
       "   {'colsample_bytree': 0.7, 'subsample': 0.6},\n",
       "   {'colsample_bytree': 0.7, 'subsample': 0.7},\n",
       "   {'colsample_bytree': 0.7, 'subsample': 0.8},\n",
       "   {'colsample_bytree': 0.7, 'subsample': 0.9},\n",
       "   {'colsample_bytree': 0.8, 'subsample': 0.6},\n",
       "   {'colsample_bytree': 0.8, 'subsample': 0.7},\n",
       "   {'colsample_bytree': 0.8, 'subsample': 0.8},\n",
       "   {'colsample_bytree': 0.8, 'subsample': 0.9},\n",
       "   {'colsample_bytree': 0.9, 'subsample': 0.6},\n",
       "   {'colsample_bytree': 0.9, 'subsample': 0.7},\n",
       "   {'colsample_bytree': 0.9, 'subsample': 0.8},\n",
       "   {'colsample_bytree': 0.9, 'subsample': 0.9}],\n",
       "  'split0_test_score': array([0.93315325, 0.93584188, 0.93539598, 0.93567551, 0.93610868,\n",
       "         0.93440533, 0.936268  , 0.93693033, 0.93412917, 0.93617073,\n",
       "         0.9358505 , 0.93518292, 0.93480811, 0.93545845, 0.9355165 ,\n",
       "         0.9343965 ]),\n",
       "  'split1_test_score': array([0.93439377, 0.93363091, 0.9328365 , 0.93309793, 0.93236305,\n",
       "         0.93316997, 0.93299992, 0.93501592, 0.93237903, 0.93430101,\n",
       "         0.93244655, 0.93525906, 0.9323357 , 0.93380422, 0.93475721,\n",
       "         0.93423665]),\n",
       "  'split2_test_score': array([0.93432916, 0.9355144 , 0.93469743, 0.93493136, 0.9343578 ,\n",
       "         0.93463173, 0.93533521, 0.93571358, 0.93490967, 0.93425104,\n",
       "         0.93453783, 0.93543817, 0.93465195, 0.93570516, 0.93477512,\n",
       "         0.93503801]),\n",
       "  'split3_test_score': array([0.92772262, 0.92854414, 0.93050098, 0.93039968, 0.92712748,\n",
       "         0.92945012, 0.93031987, 0.93112539, 0.92867513, 0.92940421,\n",
       "         0.93045317, 0.92985656, 0.92768008, 0.92907126, 0.92989194,\n",
       "         0.92922583]),\n",
       "  'split4_test_score': array([0.93115129, 0.93339285, 0.93408928, 0.93501252, 0.93253573,\n",
       "         0.93492681, 0.93489185, 0.9346065 , 0.93359523, 0.93427229,\n",
       "         0.93440475, 0.93501547, 0.93298387, 0.9333442 , 0.93412887,\n",
       "         0.93418952]),\n",
       "  'mean_test_score': array([0.93215002, 0.93338483, 0.93350403, 0.9338234 , 0.93249855,\n",
       "         0.93331679, 0.93396297, 0.93467834, 0.93273765, 0.93367985,\n",
       "         0.93353856, 0.93415044, 0.93249194, 0.93347666, 0.93381393,\n",
       "         0.9334173 ]),\n",
       "  'std_test_score': array([0.00250555, 0.00261017, 0.00172105, 0.00191416, 0.00301191,\n",
       "         0.0020238 , 0.00210991, 0.00194349, 0.0021919 , 0.00226047,\n",
       "         0.00188711, 0.00215123, 0.00258653, 0.00238437, 0.00200966,\n",
       "         0.00211762]),\n",
       "  'rank_test_score': array([16, 11,  8,  4, 14, 12,  3,  1, 13,  6,  7,  2, 15,  9,  5, 10])},\n",
       " {'colsample_bytree': 0.7, 'subsample': 0.9},\n",
       " 0.9346783421834257)"
      ]
     },
     "execution_count": 31,
     "metadata": {},
     "output_type": "execute_result"
    }
   ],
   "source": [
    "param_test4 = {\n",
    " 'subsample':[i/10.0 for i in range(6,10)],\n",
    " 'colsample_bytree':[i/10.0 for i in range(6,10)]\n",
    "}\n",
    "gsearch4 = GridSearchCV(estimator = XGBClassifier( learning_rate =0.1, n_estimators=177, max_depth=6,\n",
    " min_child_weight=3, gamma=0.4, subsample=0.8, colsample_bytree=0.8,\n",
    " objective= 'binary:logistic', nthread=4, scale_pos_weight=1,seed=27), \n",
    " param_grid = param_test4, scoring='roc_auc',n_jobs=4, cv=5)\n",
    "gsearch4.fit(train[predictors],train[target])\n",
    "gsearch4.cv_results_, gsearch4.best_params_, gsearch4.best_score_"
   ]
  },
  {
   "cell_type": "markdown",
   "metadata": {},
   "source": [
    "# 'colsample_bytree': 0.7, 'subsample': 0.9"
   ]
  },
  {
   "cell_type": "code",
   "execution_count": 32,
   "metadata": {},
   "outputs": [
    {
     "name": "stderr",
     "output_type": "stream",
     "text": [
      "c:\\users\\sai krithik\\appdata\\local\\programs\\python\\python36\\lib\\site-packages\\sklearn\\model_selection\\_search.py:823: FutureWarning: The parameter 'iid' is deprecated in 0.22 and will be removed in 0.24.\n",
      "  \"removed in 0.24.\", FutureWarning\n"
     ]
    },
    {
     "data": {
      "text/plain": [
       "GridSearchCV(cv=5, error_score=nan,\n",
       "             estimator=XGBClassifier(base_score=None, booster=None,\n",
       "                                     colsample_bylevel=None,\n",
       "                                     colsample_bynode=None,\n",
       "                                     colsample_bytree=0.7, gamma=0, gpu_id=None,\n",
       "                                     importance_type='gain',\n",
       "                                     interaction_constraints=None,\n",
       "                                     learning_rate=0.1, max_delta_step=None,\n",
       "                                     max_depth=6, min_child_weight=3,\n",
       "                                     missing=nan, monotone_constraints=None,\n",
       "                                     n_estimators=177, n...\n",
       "                                     objective='binary:logistic',\n",
       "                                     random_state=None, reg_alpha=None,\n",
       "                                     reg_lambda=None, scale_pos_weight=1,\n",
       "                                     seed=27, subsample=0.9, tree_method=None,\n",
       "                                     validate_parameters=False,\n",
       "                                     verbosity=None),\n",
       "             iid=False, n_jobs=4,\n",
       "             param_grid={'colsample_bytree': [0.75, 0.8, 0.85],\n",
       "                         'subsample': [0.75, 0.8, 0.85]},\n",
       "             pre_dispatch='2*n_jobs', refit=True, return_train_score=False,\n",
       "             scoring='roc_auc', verbose=0)"
      ]
     },
     "execution_count": 32,
     "metadata": {},
     "output_type": "execute_result"
    }
   ],
   "source": [
    "param_test5 = {\n",
    " 'subsample':[i/100.0 for i in range(75,90,5)],\n",
    " 'colsample_bytree':[i/100.0 for i in range(75,90,5)]\n",
    "}\n",
    "gsearch5 = GridSearchCV(estimator = XGBClassifier( learning_rate =0.1, n_estimators=177, max_depth=6,\n",
    " min_child_weight=3, gamma=0, subsample=0.9, colsample_bytree=0.7,\n",
    " objective= 'binary:logistic', nthread=4, scale_pos_weight=1,seed=27), \n",
    " param_grid = param_test5, scoring='roc_auc',n_jobs=4, cv=5)\n",
    "gsearch5.fit(train[predictors],train[target])"
   ]
  },
  {
   "cell_type": "code",
   "execution_count": 33,
   "metadata": {},
   "outputs": [
    {
     "data": {
      "text/plain": [
       "({'mean_fit_time': array([26.94016786, 26.8497437 , 27.05006104, 27.07431064, 27.20622592,\n",
       "         28.24262586, 29.49385033, 32.51756415, 27.95134096]),\n",
       "  'std_fit_time': array([0.27436795, 0.65940937, 0.29802204, 0.1490909 , 0.43890114,\n",
       "         0.53066843, 0.16675401, 1.60874314, 8.16736206]),\n",
       "  'mean_score_time': array([0.21279693, 0.1146915 , 0.12687888, 0.10478907, 0.11987996,\n",
       "         0.11047702, 0.10794234, 0.13819847, 0.10500474]),\n",
       "  'std_score_time': array([0.09061545, 0.01860706, 0.02256244, 0.01208031, 0.01326112,\n",
       "         0.00738184, 0.0107335 , 0.03452641, 0.02413082]),\n",
       "  'param_colsample_bytree': masked_array(data=[0.75, 0.75, 0.75, 0.8, 0.8, 0.8, 0.85, 0.85, 0.85],\n",
       "               mask=[False, False, False, False, False, False, False, False,\n",
       "                     False],\n",
       "         fill_value='?',\n",
       "              dtype=object),\n",
       "  'param_subsample': masked_array(data=[0.75, 0.8, 0.85, 0.75, 0.8, 0.85, 0.75, 0.8, 0.85],\n",
       "               mask=[False, False, False, False, False, False, False, False,\n",
       "                     False],\n",
       "         fill_value='?',\n",
       "              dtype=object),\n",
       "  'params': [{'colsample_bytree': 0.75, 'subsample': 0.75},\n",
       "   {'colsample_bytree': 0.75, 'subsample': 0.8},\n",
       "   {'colsample_bytree': 0.75, 'subsample': 0.85},\n",
       "   {'colsample_bytree': 0.8, 'subsample': 0.75},\n",
       "   {'colsample_bytree': 0.8, 'subsample': 0.8},\n",
       "   {'colsample_bytree': 0.8, 'subsample': 0.85},\n",
       "   {'colsample_bytree': 0.85, 'subsample': 0.75},\n",
       "   {'colsample_bytree': 0.85, 'subsample': 0.8},\n",
       "   {'colsample_bytree': 0.85, 'subsample': 0.85}],\n",
       "  'split0_test_score': array([0.93502833, 0.93626905, 0.93262785, 0.93502833, 0.93626905,\n",
       "         0.93262785, 0.9350155 , 0.93595041, 0.93453931]),\n",
       "  'split1_test_score': array([0.93406313, 0.93394493, 0.93479633, 0.93406313, 0.93394493,\n",
       "         0.93479633, 0.93455299, 0.9341583 , 0.93367865]),\n",
       "  'split2_test_score': array([0.93406639, 0.93544238, 0.93552661, 0.93406639, 0.93544238,\n",
       "         0.93552661, 0.93416577, 0.93498842, 0.93502927]),\n",
       "  'split3_test_score': array([0.93023626, 0.9309308 , 0.9298871 , 0.93023626, 0.9309308 ,\n",
       "         0.9298871 , 0.92909737, 0.92941516, 0.92972705]),\n",
       "  'split4_test_score': array([0.93515341, 0.93471064, 0.93372158, 0.93515341, 0.93471064,\n",
       "         0.93372158, 0.93481383, 0.93518521, 0.93497588]),\n",
       "  'mean_test_score': array([0.9337095 , 0.93425956, 0.93331189, 0.9337095 , 0.93425956,\n",
       "         0.93331189, 0.93352909, 0.9339395 , 0.93359003]),\n",
       "  'std_test_score': array([0.00179666, 0.00183414, 0.0019735 , 0.00179666, 0.00183414,\n",
       "         0.0019735 , 0.002234  , 0.00233295, 0.00199116]),\n",
       "  'rank_test_score': array([4, 1, 8, 4, 1, 8, 7, 3, 6])},\n",
       " {'colsample_bytree': 0.75, 'subsample': 0.8},\n",
       " 0.9342595595933154)"
      ]
     },
     "execution_count": 33,
     "metadata": {},
     "output_type": "execute_result"
    }
   ],
   "source": [
    "gsearch5.cv_results_, gsearch5.best_params_, gsearch5.best_score_"
   ]
  },
  {
   "cell_type": "markdown",
   "metadata": {},
   "source": [
    "# 'colsample_bytree': 0.75, 'subsample': 0.8"
   ]
  },
  {
   "cell_type": "code",
   "execution_count": 34,
   "metadata": {},
   "outputs": [
    {
     "name": "stderr",
     "output_type": "stream",
     "text": [
      "c:\\users\\sai krithik\\appdata\\local\\programs\\python\\python36\\lib\\site-packages\\sklearn\\model_selection\\_search.py:823: FutureWarning: The parameter 'iid' is deprecated in 0.22 and will be removed in 0.24.\n",
      "  \"removed in 0.24.\", FutureWarning\n"
     ]
    },
    {
     "data": {
      "text/plain": [
       "({'mean_fit_time': array([19.69031363, 22.08470035, 24.36082177, 25.04486103, 15.31651025]),\n",
       "  'std_fit_time': array([1.18739166, 0.30979979, 1.52587311, 0.52896856, 4.69604075]),\n",
       "  'mean_score_time': array([0.13903842, 0.17098942, 0.13665137, 0.10336366, 0.07494726]),\n",
       "  'std_score_time': array([0.03705345, 0.04027041, 0.02361573, 0.01243564, 0.0220627 ]),\n",
       "  'param_reg_alpha': masked_array(data=[1e-05, 0.01, 0.1, 1, 100],\n",
       "               mask=[False, False, False, False, False],\n",
       "         fill_value='?',\n",
       "              dtype=object),\n",
       "  'params': [{'reg_alpha': 1e-05},\n",
       "   {'reg_alpha': 0.01},\n",
       "   {'reg_alpha': 0.1},\n",
       "   {'reg_alpha': 1},\n",
       "   {'reg_alpha': 100}],\n",
       "  'split0_test_score': array([0.93525422, 0.93573776, 0.93557276, 0.93541512, 0.91170965]),\n",
       "  'split1_test_score': array([0.93376068, 0.93372471, 0.93372871, 0.93380316, 0.90839235]),\n",
       "  'split2_test_score': array([0.93437696, 0.93496589, 0.93498779, 0.93497958, 0.91059587]),\n",
       "  'split3_test_score': array([0.93047402, 0.93032303, 0.93066524, 0.93104726, 0.90635811]),\n",
       "  'split4_test_score': array([0.93511234, 0.93390227, 0.9337795 , 0.93487858, 0.90884375]),\n",
       "  'mean_test_score': array([0.93379564, 0.93373073, 0.9337468 , 0.93402474, 0.90917995]),\n",
       "  'std_test_score': array([0.00174548, 0.00185449, 0.00169538, 0.00158041, 0.00184934]),\n",
       "  'rank_test_score': array([2, 4, 3, 1, 5])},\n",
       " {'reg_alpha': 1},\n",
       " 0.934024740616261)"
      ]
     },
     "execution_count": 34,
     "metadata": {},
     "output_type": "execute_result"
    }
   ],
   "source": [
    "param_test6 = {\n",
    " 'reg_alpha':[1e-5, 1e-2, 0.1, 1, 100]\n",
    "}\n",
    "gsearch6 = GridSearchCV(estimator = XGBClassifier( learning_rate =0.1, n_estimators=177, max_depth=6,\n",
    " min_child_weight=3, gamma=0.4, subsample=0.8, colsample_bytree=0.75,\n",
    " objective= 'binary:logistic', nthread=4, scale_pos_weight=1,seed=27), \n",
    " param_grid = param_test6, scoring='roc_auc',n_jobs=4, cv=5)\n",
    "gsearch6.fit(train[predictors],train[target])\n",
    "gsearch6.cv_results_, gsearch6.best_params_, gsearch6.best_score_"
   ]
  },
  {
   "cell_type": "code",
   "execution_count": null,
   "metadata": {},
   "outputs": [],
   "source": [
    "# 'reg_alpha': 1"
   ]
  },
  {
   "cell_type": "code",
   "execution_count": null,
   "metadata": {},
   "outputs": [],
   "source": [
    "param_test7 = {\n",
    " 'reg_alpha':[0, 1, 2, 10]\n",
    "}\n",
    "gsearch7 = GridSearchCV(estimator = XGBClassifier( learning_rate =0.1, n_estimators=177, max_depth=6,\n",
    " min_child_weight=3, gamma=0.4, subsample=0.8, colsample_bytree=0.75,\n",
    " objective= 'binary:logistic', nthread=4, scale_pos_weight=1,seed=27), \n",
    " param_grid = param_test7, scoring='roc_auc',n_jobs=4,iid=False, cv=5)\n",
    "gsearch7.fit(train[predictors],train[target])"
   ]
  },
  {
   "cell_type": "code",
   "execution_count": 38,
   "metadata": {},
   "outputs": [
    {
     "data": {
      "text/plain": [
       "({'mean_fit_time': array([30.33826475, 31.53937602, 33.10899706, 31.20861554]),\n",
       "  'std_fit_time': array([0.10396187, 1.19851941, 0.64401341, 0.48173874]),\n",
       "  'mean_score_time': array([0.15081043, 0.12347722, 0.11659036, 0.14078865]),\n",
       "  'std_score_time': array([0.05228841, 0.01853821, 0.01823241, 0.04816216]),\n",
       "  'param_reg_alpha': masked_array(data=[0, 1, 2, 10],\n",
       "               mask=[False, False, False, False],\n",
       "         fill_value='?',\n",
       "              dtype=object),\n",
       "  'params': [{'reg_alpha': 0},\n",
       "   {'reg_alpha': 1},\n",
       "   {'reg_alpha': 2},\n",
       "   {'reg_alpha': 10}],\n",
       "  'split0_test_score': array([0.9358505 , 0.93542122, 0.93672315, 0.93511772]),\n",
       "  'split1_test_score': array([0.93244655, 0.93378171, 0.93430858, 0.93381284]),\n",
       "  'split2_test_score': array([0.93453783, 0.9361288 , 0.93486303, 0.93358168]),\n",
       "  'split3_test_score': array([0.93045317, 0.93055563, 0.93144001, 0.93011454]),\n",
       "  'split4_test_score': array([0.93440475, 0.93492534, 0.93458312, 0.93415551]),\n",
       "  'mean_test_score': array([0.93353856, 0.93416254, 0.93438358, 0.93335646]),\n",
       "  'std_test_score': array([0.00188711, 0.00195894, 0.00169785, 0.0017035 ]),\n",
       "  'rank_test_score': array([3, 2, 1, 4])},\n",
       " {'reg_alpha': 2},\n",
       " 0.9343835807630265)"
      ]
     },
     "execution_count": 38,
     "metadata": {},
     "output_type": "execute_result"
    }
   ],
   "source": [
    "gsearch7.cv_results_, gsearch7.best_params_, gsearch7.best_score_"
   ]
  },
  {
   "cell_type": "markdown",
   "metadata": {},
   "source": [
    "# 'reg_alpha': 2"
   ]
  },
  {
   "cell_type": "code",
   "execution_count": null,
   "metadata": {},
   "outputs": [],
   "source": [
    "xgb3 = XGBClassifier(\n",
    " learning_rate =0.01,\n",
    " n_estimators=2000,\n",
    " max_depth=7,\n",
    " min_child_weight=2,\n",
    " gamma=0.4,\n",
    " subsample=0.8,\n",
    " colsample_bytree=0.75,\n",
    " reg_alpha=0,\n",
    " objective= 'binary:logistic',\n",
    " nthread=4,\n",
    " scale_pos_weight=1,\n",
    " seed=27)"
   ]
  },
  {
   "cell_type": "code",
   "execution_count": null,
   "metadata": {},
   "outputs": [],
   "source": [
    "xgb3.fit(X,y)"
   ]
  },
  {
   "cell_type": "code",
   "execution_count": null,
   "metadata": {},
   "outputs": [],
   "source": [
    "scores1 = cross_val_score(xgb3, X, y, cv=3, scoring='f1')"
   ]
  },
  {
   "cell_type": "code",
   "execution_count": 176,
   "metadata": {},
   "outputs": [
    {
     "data": {
      "text/plain": [
       "XGBClassifier(base_score=0.5, booster=None, colsample_bylevel=1,\n",
       "              colsample_bynode=1, colsample_bytree=0.75, gamma=0.4, gpu_id=-1,\n",
       "              importance_type='gain', interaction_constraints=None,\n",
       "              learning_rate=0.01, max_delta_step=0, max_depth=7,\n",
       "              min_child_weight=2, missing=nan, monotone_constraints=None,\n",
       "              n_estimators=2000, n_jobs=4, nthread=4, num_parallel_tree=1,\n",
       "              objective='binary:logistic', random_state=27, reg_alpha=0,\n",
       "              reg_lambda=1, scale_pos_weight=1, seed=27, subsample=0.8,\n",
       "              tree_method=None, validate_parameters=False, verbosity=None)"
      ]
     },
     "execution_count": 176,
     "metadata": {},
     "output_type": "execute_result"
    }
   ],
   "source": [
    "scores1.mean"
   ]
  },
  {
   "cell_type": "code",
   "execution_count": 177,
   "metadata": {},
   "outputs": [
    {
     "data": {
      "text/plain": [
       "AdaBoostClassifier(algorithm='SAMME.R',\n",
       "                   base_estimator=XGBClassifier(base_score=0.5, booster=None,\n",
       "                                                colsample_bylevel=1,\n",
       "                                                colsample_bynode=1,\n",
       "                                                colsample_bytree=0.75,\n",
       "                                                gamma=0.4, gpu_id=-1,\n",
       "                                                importance_type='gain',\n",
       "                                                interaction_constraints=None,\n",
       "                                                learning_rate=0.01,\n",
       "                                                max_delta_step=0, max_depth=7,\n",
       "                                                min_child_weight=2, missing=nan,\n",
       "                                                monotone_constraints=None,\n",
       "                                                n_estimators=2000, n_jobs=4,\n",
       "                                                nthread=4, num_parallel_tree=1,\n",
       "                                                objective='binary:logistic',\n",
       "                                                random_state=27, reg_alpha=0,\n",
       "                                                reg_lambda=1,\n",
       "                                                scale_pos_weight=1, seed=27,\n",
       "                                                subsample=0.8, tree_method=None,\n",
       "                                                validate_parameters=False,\n",
       "                                                verbosity=None),\n",
       "                   learning_rate=1.0, n_estimators=3, random_state=None)"
      ]
     },
     "execution_count": 177,
     "metadata": {},
     "output_type": "execute_result"
    }
   ],
   "source": [
    "# del X[\"labels\"]\n",
    "from sklearn.ensemble import AdaBoostClassifier\n",
    "from sklearn.model_selection import cross_val_score, train_test_split\n",
    "boosting = AdaBoostClassifier(base_estimator=xgb3, n_estimators=3)   \n",
    "boosting.fit(X, y)\n"
   ]
  },
  {
   "cell_type": "code",
   "execution_count": null,
   "metadata": {},
   "outputs": [],
   "source": [
    " scores2 = cross_val_score(boosting, X, y, cv=3, scoring='f1')"
   ]
  },
  {
   "cell_type": "code",
   "execution_count": null,
   "metadata": {},
   "outputs": [],
   "source": []
  },
  {
   "cell_type": "code",
   "execution_count": null,
   "metadata": {},
   "outputs": [],
   "source": []
  },
  {
   "cell_type": "code",
   "execution_count": null,
   "metadata": {},
   "outputs": [],
   "source": []
  },
  {
   "cell_type": "code",
   "execution_count": 158,
   "metadata": {},
   "outputs": [],
   "source": []
  },
  {
   "cell_type": "code",
   "execution_count": 159,
   "metadata": {},
   "outputs": [
    {
     "data": {
      "text/plain": [
       "XGBClassifier(base_score=0.5, booster=None, colsample_bylevel=1,\n",
       "              colsample_bynode=1, colsample_bytree=0.75, gamma=0.4, gpu_id=-1,\n",
       "              importance_type='gain', interaction_constraints=None,\n",
       "              learning_rate=0.01, max_delta_step=0, max_depth=7,\n",
       "              min_child_weight=2, missing=nan, monotone_constraints=None,\n",
       "              n_estimators=2000, n_jobs=4, nthread=4, num_parallel_tree=1,\n",
       "              objective='binary:logistic', random_state=27, reg_alpha=0,\n",
       "              reg_lambda=1, scale_pos_weight=1, seed=27, subsample=0.8,\n",
       "              tree_method=None, validate_parameters=False, verbosity=None)"
      ]
     },
     "execution_count": 159,
     "metadata": {},
     "output_type": "execute_result"
    }
   ],
   "source": []
  },
  {
   "cell_type": "code",
   "execution_count": 182,
   "metadata": {},
   "outputs": [],
   "source": [
    "y_Pred = xgb3.predict(x_test)\n",
    "# y_Pred = boosting.predict(x_test)"
   ]
  },
  {
   "cell_type": "code",
   "execution_count": 183,
   "metadata": {},
   "outputs": [
    {
     "data": {
      "text/html": [
       "<div>\n",
       "<style scoped>\n",
       "    .dataframe tbody tr th:only-of-type {\n",
       "        vertical-align: middle;\n",
       "    }\n",
       "\n",
       "    .dataframe tbody tr th {\n",
       "        vertical-align: top;\n",
       "    }\n",
       "\n",
       "    .dataframe thead th {\n",
       "        text-align: right;\n",
       "    }\n",
       "</style>\n",
       "<table border=\"1\" class=\"dataframe\">\n",
       "  <thead>\n",
       "    <tr style=\"text-align: right;\">\n",
       "      <th></th>\n",
       "      <th>feature_0</th>\n",
       "      <th>feature_1</th>\n",
       "      <th>feature_2</th>\n",
       "      <th>feature_3</th>\n",
       "      <th>feature_4</th>\n",
       "      <th>feature_5</th>\n",
       "      <th>feature_6</th>\n",
       "      <th>feature_7</th>\n",
       "      <th>feature_8</th>\n",
       "      <th>feature_9</th>\n",
       "      <th>feature_10</th>\n",
       "      <th>feature_11</th>\n",
       "      <th>feature_12</th>\n",
       "      <th>feature_13</th>\n",
       "      <th>feature_14</th>\n",
       "      <th>feature_15</th>\n",
       "    </tr>\n",
       "  </thead>\n",
       "  <tbody>\n",
       "    <tr>\n",
       "      <th>0</th>\n",
       "      <td>0.947747</td>\n",
       "      <td>-0.259225</td>\n",
       "      <td>-0.217055</td>\n",
       "      <td>-0.105477</td>\n",
       "      <td>-0.569351</td>\n",
       "      <td>-0.411453</td>\n",
       "      <td>-0.251940</td>\n",
       "      <td>9</td>\n",
       "      <td>1</td>\n",
       "      <td>3</td>\n",
       "      <td>0</td>\n",
       "      <td>1</td>\n",
       "      <td>1</td>\n",
       "      <td>2</td>\n",
       "      <td>8</td>\n",
       "      <td>3</td>\n",
       "    </tr>\n",
       "    <tr>\n",
       "      <th>1</th>\n",
       "      <td>-0.841558</td>\n",
       "      <td>0.196972</td>\n",
       "      <td>-0.337213</td>\n",
       "      <td>-0.497672</td>\n",
       "      <td>-0.569351</td>\n",
       "      <td>-0.411453</td>\n",
       "      <td>-0.251940</td>\n",
       "      <td>4</td>\n",
       "      <td>2</td>\n",
       "      <td>2</td>\n",
       "      <td>0</td>\n",
       "      <td>0</td>\n",
       "      <td>0</td>\n",
       "      <td>0</td>\n",
       "      <td>4</td>\n",
       "      <td>3</td>\n",
       "    </tr>\n",
       "    <tr>\n",
       "      <th>2</th>\n",
       "      <td>-0.559037</td>\n",
       "      <td>-0.445777</td>\n",
       "      <td>0.383734</td>\n",
       "      <td>0.038198</td>\n",
       "      <td>0.076230</td>\n",
       "      <td>-0.411453</td>\n",
       "      <td>-0.251940</td>\n",
       "      <td>1</td>\n",
       "      <td>2</td>\n",
       "      <td>1</td>\n",
       "      <td>0</td>\n",
       "      <td>0</td>\n",
       "      <td>0</td>\n",
       "      <td>2</td>\n",
       "      <td>8</td>\n",
       "      <td>3</td>\n",
       "    </tr>\n",
       "    <tr>\n",
       "      <th>3</th>\n",
       "      <td>-0.559037</td>\n",
       "      <td>-0.101248</td>\n",
       "      <td>0.624050</td>\n",
       "      <td>-0.590867</td>\n",
       "      <td>-0.569351</td>\n",
       "      <td>-0.411453</td>\n",
       "      <td>-0.251940</td>\n",
       "      <td>10</td>\n",
       "      <td>1</td>\n",
       "      <td>1</td>\n",
       "      <td>1</td>\n",
       "      <td>1</td>\n",
       "      <td>1</td>\n",
       "      <td>0</td>\n",
       "      <td>9</td>\n",
       "      <td>3</td>\n",
       "    </tr>\n",
       "    <tr>\n",
       "      <th>4</th>\n",
       "      <td>-0.370689</td>\n",
       "      <td>0.329004</td>\n",
       "      <td>0.263576</td>\n",
       "      <td>1.568147</td>\n",
       "      <td>0.399020</td>\n",
       "      <td>-0.411453</td>\n",
       "      <td>-0.251940</td>\n",
       "      <td>4</td>\n",
       "      <td>1</td>\n",
       "      <td>2</td>\n",
       "      <td>0</td>\n",
       "      <td>0</td>\n",
       "      <td>0</td>\n",
       "      <td>1</td>\n",
       "      <td>5</td>\n",
       "      <td>3</td>\n",
       "    </tr>\n",
       "    <tr>\n",
       "      <th>...</th>\n",
       "      <td>...</td>\n",
       "      <td>...</td>\n",
       "      <td>...</td>\n",
       "      <td>...</td>\n",
       "      <td>...</td>\n",
       "      <td>...</td>\n",
       "      <td>...</td>\n",
       "      <td>...</td>\n",
       "      <td>...</td>\n",
       "      <td>...</td>\n",
       "      <td>...</td>\n",
       "      <td>...</td>\n",
       "      <td>...</td>\n",
       "      <td>...</td>\n",
       "      <td>...</td>\n",
       "      <td>...</td>\n",
       "    </tr>\n",
       "    <tr>\n",
       "      <th>26941</th>\n",
       "      <td>-0.653211</td>\n",
       "      <td>-0.367609</td>\n",
       "      <td>0.263576</td>\n",
       "      <td>0.966263</td>\n",
       "      <td>-0.569351</td>\n",
       "      <td>-0.411453</td>\n",
       "      <td>-0.251940</td>\n",
       "      <td>1</td>\n",
       "      <td>1</td>\n",
       "      <td>1</td>\n",
       "      <td>0</td>\n",
       "      <td>1</td>\n",
       "      <td>0</td>\n",
       "      <td>0</td>\n",
       "      <td>8</td>\n",
       "      <td>3</td>\n",
       "    </tr>\n",
       "    <tr>\n",
       "      <th>26942</th>\n",
       "      <td>0.194355</td>\n",
       "      <td>-0.256926</td>\n",
       "      <td>-0.577529</td>\n",
       "      <td>4.876564</td>\n",
       "      <td>-0.569351</td>\n",
       "      <td>2.434914</td>\n",
       "      <td>0.616335</td>\n",
       "      <td>4</td>\n",
       "      <td>0</td>\n",
       "      <td>2</td>\n",
       "      <td>0</td>\n",
       "      <td>1</td>\n",
       "      <td>0</td>\n",
       "      <td>0</td>\n",
       "      <td>8</td>\n",
       "      <td>0</td>\n",
       "    </tr>\n",
       "    <tr>\n",
       "      <th>26943</th>\n",
       "      <td>-1.218254</td>\n",
       "      <td>-0.410306</td>\n",
       "      <td>-0.337213</td>\n",
       "      <td>-0.210322</td>\n",
       "      <td>0.076230</td>\n",
       "      <td>0.647196</td>\n",
       "      <td>0.182198</td>\n",
       "      <td>9</td>\n",
       "      <td>2</td>\n",
       "      <td>1</td>\n",
       "      <td>0</td>\n",
       "      <td>0</td>\n",
       "      <td>0</td>\n",
       "      <td>0</td>\n",
       "      <td>1</td>\n",
       "      <td>0</td>\n",
       "    </tr>\n",
       "    <tr>\n",
       "      <th>26944</th>\n",
       "      <td>-0.747384</td>\n",
       "      <td>-0.347903</td>\n",
       "      <td>-1.538792</td>\n",
       "      <td>0.376029</td>\n",
       "      <td>-0.569351</td>\n",
       "      <td>2.604697</td>\n",
       "      <td>1.918749</td>\n",
       "      <td>9</td>\n",
       "      <td>1</td>\n",
       "      <td>1</td>\n",
       "      <td>0</td>\n",
       "      <td>1</td>\n",
       "      <td>0</td>\n",
       "      <td>0</td>\n",
       "      <td>3</td>\n",
       "      <td>2</td>\n",
       "    </tr>\n",
       "    <tr>\n",
       "      <th>26945</th>\n",
       "      <td>-0.841558</td>\n",
       "      <td>-0.404394</td>\n",
       "      <td>0.624050</td>\n",
       "      <td>0.247886</td>\n",
       "      <td>-0.569351</td>\n",
       "      <td>1.486125</td>\n",
       "      <td>0.182198</td>\n",
       "      <td>0</td>\n",
       "      <td>2</td>\n",
       "      <td>1</td>\n",
       "      <td>0</td>\n",
       "      <td>1</td>\n",
       "      <td>0</td>\n",
       "      <td>0</td>\n",
       "      <td>2</td>\n",
       "      <td>2</td>\n",
       "    </tr>\n",
       "  </tbody>\n",
       "</table>\n",
       "<p>26946 rows × 16 columns</p>\n",
       "</div>"
      ],
      "text/plain": [
       "       feature_0  feature_1  feature_2  feature_3  feature_4  feature_5  \\\n",
       "0       0.947747  -0.259225  -0.217055  -0.105477  -0.569351  -0.411453   \n",
       "1      -0.841558   0.196972  -0.337213  -0.497672  -0.569351  -0.411453   \n",
       "2      -0.559037  -0.445777   0.383734   0.038198   0.076230  -0.411453   \n",
       "3      -0.559037  -0.101248   0.624050  -0.590867  -0.569351  -0.411453   \n",
       "4      -0.370689   0.329004   0.263576   1.568147   0.399020  -0.411453   \n",
       "...          ...        ...        ...        ...        ...        ...   \n",
       "26941  -0.653211  -0.367609   0.263576   0.966263  -0.569351  -0.411453   \n",
       "26942   0.194355  -0.256926  -0.577529   4.876564  -0.569351   2.434914   \n",
       "26943  -1.218254  -0.410306  -0.337213  -0.210322   0.076230   0.647196   \n",
       "26944  -0.747384  -0.347903  -1.538792   0.376029  -0.569351   2.604697   \n",
       "26945  -0.841558  -0.404394   0.624050   0.247886  -0.569351   1.486125   \n",
       "\n",
       "       feature_6  feature_7  feature_8  feature_9  feature_10  feature_11  \\\n",
       "0      -0.251940          9          1          3           0           1   \n",
       "1      -0.251940          4          2          2           0           0   \n",
       "2      -0.251940          1          2          1           0           0   \n",
       "3      -0.251940         10          1          1           1           1   \n",
       "4      -0.251940          4          1          2           0           0   \n",
       "...          ...        ...        ...        ...         ...         ...   \n",
       "26941  -0.251940          1          1          1           0           1   \n",
       "26942   0.616335          4          0          2           0           1   \n",
       "26943   0.182198          9          2          1           0           0   \n",
       "26944   1.918749          9          1          1           0           1   \n",
       "26945   0.182198          0          2          1           0           1   \n",
       "\n",
       "       feature_12  feature_13  feature_14  feature_15  \n",
       "0               1           2           8           3  \n",
       "1               0           0           4           3  \n",
       "2               0           2           8           3  \n",
       "3               1           0           9           3  \n",
       "4               0           1           5           3  \n",
       "...           ...         ...         ...         ...  \n",
       "26941           0           0           8           3  \n",
       "26942           0           0           8           0  \n",
       "26943           0           0           1           0  \n",
       "26944           0           0           3           2  \n",
       "26945           0           0           2           2  \n",
       "\n",
       "[26946 rows x 16 columns]"
      ]
     },
     "execution_count": 183,
     "metadata": {},
     "output_type": "execute_result"
    }
   ],
   "source": [
    "X"
   ]
  },
  {
   "cell_type": "code",
   "execution_count": 184,
   "metadata": {},
   "outputs": [],
   "source": [
    "Output = pd.DataFrame(columns = [\"labels\"])"
   ]
  },
  {
   "cell_type": "code",
   "execution_count": 185,
   "metadata": {},
   "outputs": [
    {
     "data": {
      "text/plain": [
       "0    9446\n",
       "1    1857\n",
       "Name: labels, dtype: int64"
      ]
     },
     "execution_count": 185,
     "metadata": {},
     "output_type": "execute_result"
    }
   ],
   "source": [
    "Output[\"labels\"]=y_Pred\n",
    "Output[\"labels\"].value_counts()\n",
    "# y_Pred"
   ]
  },
  {
   "cell_type": "code",
   "execution_count": 164,
   "metadata": {},
   "outputs": [
    {
     "data": {
      "text/html": [
       "<div>\n",
       "<style scoped>\n",
       "    .dataframe tbody tr th:only-of-type {\n",
       "        vertical-align: middle;\n",
       "    }\n",
       "\n",
       "    .dataframe tbody tr th {\n",
       "        vertical-align: top;\n",
       "    }\n",
       "\n",
       "    .dataframe thead th {\n",
       "        text-align: right;\n",
       "    }\n",
       "</style>\n",
       "<table border=\"1\" class=\"dataframe\">\n",
       "  <thead>\n",
       "    <tr style=\"text-align: right;\">\n",
       "      <th></th>\n",
       "      <th>labels</th>\n",
       "    </tr>\n",
       "  </thead>\n",
       "  <tbody>\n",
       "    <tr>\n",
       "      <th>0</th>\n",
       "      <td>1</td>\n",
       "    </tr>\n",
       "    <tr>\n",
       "      <th>1</th>\n",
       "      <td>0</td>\n",
       "    </tr>\n",
       "    <tr>\n",
       "      <th>2</th>\n",
       "      <td>0</td>\n",
       "    </tr>\n",
       "    <tr>\n",
       "      <th>3</th>\n",
       "      <td>0</td>\n",
       "    </tr>\n",
       "    <tr>\n",
       "      <th>4</th>\n",
       "      <td>0</td>\n",
       "    </tr>\n",
       "    <tr>\n",
       "      <th>...</th>\n",
       "      <td>...</td>\n",
       "    </tr>\n",
       "    <tr>\n",
       "      <th>11298</th>\n",
       "      <td>0</td>\n",
       "    </tr>\n",
       "    <tr>\n",
       "      <th>11299</th>\n",
       "      <td>0</td>\n",
       "    </tr>\n",
       "    <tr>\n",
       "      <th>11300</th>\n",
       "      <td>1</td>\n",
       "    </tr>\n",
       "    <tr>\n",
       "      <th>11301</th>\n",
       "      <td>0</td>\n",
       "    </tr>\n",
       "    <tr>\n",
       "      <th>11302</th>\n",
       "      <td>0</td>\n",
       "    </tr>\n",
       "  </tbody>\n",
       "</table>\n",
       "<p>11303 rows × 1 columns</p>\n",
       "</div>"
      ],
      "text/plain": [
       "       labels\n",
       "0           1\n",
       "1           0\n",
       "2           0\n",
       "3           0\n",
       "4           0\n",
       "...       ...\n",
       "11298       0\n",
       "11299       0\n",
       "11300       1\n",
       "11301       0\n",
       "11302       0\n",
       "\n",
       "[11303 rows x 1 columns]"
      ]
     },
     "execution_count": 164,
     "metadata": {},
     "output_type": "execute_result"
    }
   ],
   "source": [
    "Output"
   ]
  },
  {
   "cell_type": "code",
   "execution_count": 165,
   "metadata": {},
   "outputs": [],
   "source": [
    "Output.to_excel('CallofdutyBrawlStars2.xlsx', index = False)"
   ]
  },
  {
   "cell_type": "code",
   "execution_count": null,
   "metadata": {},
   "outputs": [],
   "source": []
  }
 ],
 "metadata": {
  "kernelspec": {
   "display_name": "Python 3",
   "language": "python",
   "name": "python3"
  },
  "language_info": {
   "codemirror_mode": {
    "name": "ipython",
    "version": 3
   },
   "file_extension": ".py",
   "mimetype": "text/x-python",
   "name": "python",
   "nbconvert_exporter": "python",
   "pygments_lexer": "ipython3",
   "version": "3.6.1"
  }
 },
 "nbformat": 4,
 "nbformat_minor": 2
}
